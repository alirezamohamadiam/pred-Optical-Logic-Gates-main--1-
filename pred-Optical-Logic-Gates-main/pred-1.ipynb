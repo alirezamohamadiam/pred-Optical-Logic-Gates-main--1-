{
  "cells": [
    {
      "cell_type": "markdown",
      "metadata": {
        "colab_type": "text",
        "id": "view-in-github"
      },
      "source": [
        "<a href=\"https://colab.research.google.com/github/alirezamohamadiam/pred-Optical-Logic-Gates/blob/main/pred-1.ipynb\" target=\"_parent\"><img src=\"https://colab.research.google.com/assets/colab-badge.svg\" alt=\"Open In Colab\"/></a>"
      ]
    },
    {
      "cell_type": "code",
      "execution_count": 1,
      "metadata": {
        "id": "VtdzMk-b8_Jm"
      },
      "outputs": [],
      "source": [
        "import numpy as np\n",
        "import pandas as pd\n",
        "import matplotlib.pyplot as plt\n",
        "import copy\n",
        "\n",
        "\n",
        "\n",
        "pd.options.mode.chained_assignment = None  #hide any pandas warnings"
      ]
    },
    {
      "cell_type": "code",
      "execution_count": 3,
      "metadata": {
        "colab": {
          "base_uri": "https://localhost:8080/"
        },
        "id": "qb5m9HoC8_Js",
        "outputId": "6382d6bc-f15a-4d9f-a683-e1007f383c6a"
      },
      "outputs": [
        {
          "data": {
            "text/plain": [
              "(18, 4)"
            ]
          },
          "execution_count": 3,
          "metadata": {},
          "output_type": "execute_result"
        }
      ],
      "source": [
        "data = pd.read_csv('final-data.csv')\n",
        "data.shape\n"
      ]
    },
    {
      "cell_type": "code",
      "execution_count": 4,
      "metadata": {
        "colab": {
          "base_uri": "https://localhost:8080/"
        },
        "id": "wHu1yDnd8_Jt",
        "outputId": "0979de94-76d4-48cf-8847-0fd18e8000a9"
      },
      "outputs": [
        {
          "data": {
            "text/plain": [
              "array([[0.03],\n",
              "       [0.04],\n",
              "       [0.05],\n",
              "       [0.05],\n",
              "       [0.06],\n",
              "       [0.1 ],\n",
              "       [0.1 ],\n",
              "       [0.19],\n",
              "       [0.22],\n",
              "       [0.23],\n",
              "       [0.24],\n",
              "       [0.28],\n",
              "       [0.3 ],\n",
              "       [0.32],\n",
              "       [0.36],\n",
              "       [0.4 ],\n",
              "       [0.57],\n",
              "       [0.7 ]])"
            ]
          },
          "execution_count": 4,
          "metadata": {},
          "output_type": "execute_result"
        }
      ],
      "source": [
        "X = data.iloc[:, :-1].values\n",
        "y = data.iloc[:, -1].values\n",
        "df= copy.deepcopy(y)\n",
        "df.sort()\n",
        "df.reshape(-1, 1)"
      ]
    },
    {
      "cell_type": "code",
      "execution_count": 5,
      "metadata": {
        "id": "g0ClFqz68_Ju"
      },
      "outputs": [],
      "source": [
        "from sklearn import svm"
      ]
    },
    {
      "cell_type": "code",
      "execution_count": 6,
      "metadata": {
        "colab": {
          "base_uri": "https://localhost:8080/"
        },
        "id": "ILXn2YgS8_Jv",
        "outputId": "cef190de-6fac-428c-930b-7511d1c2c99d"
      },
      "outputs": [
        {
          "data": {
            "text/plain": [
              "SVR()"
            ]
          },
          "execution_count": 6,
          "metadata": {},
          "output_type": "execute_result"
        }
      ],
      "source": [
        "regr = svm.SVR()\n",
        "regr.fit(X, y)"
      ]
    },
    {
      "cell_type": "markdown",
      "metadata": {
        "id": "n2jT-Pwg98wd"
      },
      "source": [
        "# randaom generator number "
      ]
    },
    {
      "cell_type": "code",
      "execution_count": 9,
      "metadata": {
        "id": "8PEOoPVx8_Jx"
      },
      "outputs": [],
      "source": [
        "\n",
        "from numpy import random\n",
        "\n",
        "x=random.rand(100) \n",
        "x1=x.round((2))\n",
        "random.shuffle(x1)"
      ]
    },
    {
      "cell_type": "code",
      "execution_count": 12,
      "metadata": {
        "colab": {
          "base_uri": "https://localhost:8080/"
        },
        "id": "IM_B-_yL8_J0",
        "outputId": "41c028b6-d609-4c0e-8798-82ede3209bfa"
      },
      "outputs": [
        {
          "name": "stdout",
          "output_type": "stream",
          "text": [
            "[[0.13, 0.36, 0.45]] [0.34758165]\n",
            "[[0.69, 0.45, 0.4]] [0.34758165]\n",
            "[[0.47, 0.76, 0.92]] [0.34758165]\n",
            "[[0.44, 0.97, 0.23]] [0.34758165]\n",
            "[[0.92, 0.59, 0.88]] [0.34758165]\n",
            "[[0.04, 0.34, 0.88]] [0.34758165]\n"
          ]
        }
      ],
      "source": [
        "import random\n",
        "for x in range(6):\n",
        "  X3 = random.choices(x1, k=3)\n",
        "  results = []\n",
        "  results.append(X3)\n",
        "  print(results,regr.predict(results))"
      ]
    }
  ],
  "metadata": {
    "colab": {
      "collapsed_sections": [],
      "include_colab_link": true,
      "name": "p-1.ipynb",
      "provenance": []
    },
    "kernelspec": {
      "display_name": "Python 3.9.12 ('base')",
      "language": "python",
      "name": "python3"
    },
    "language_info": {
      "codemirror_mode": {
        "name": "ipython",
        "version": 3
      },
      "file_extension": ".py",
      "mimetype": "text/x-python",
      "name": "python",
      "nbconvert_exporter": "python",
      "pygments_lexer": "ipython3",
      "version": "3.9.12"
    },
    "orig_nbformat": 4,
    "vscode": {
      "interpreter": {
        "hash": "1d24ce75dc639f4d7b2a2c182a8ab707d2e9d2a3fdd1ecfbac6a8a0d4ff259b4"
      }
    }
  },
  "nbformat": 4,
  "nbformat_minor": 0
}
