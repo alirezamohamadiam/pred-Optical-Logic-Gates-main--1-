{
 "cells": [
  {
   "cell_type": "code",
   "execution_count": 43,
   "metadata": {},
   "outputs": [],
   "source": [
    "import numpy as np\n",
    "import pandas as pd\n",
    "import matplotlib.pyplot as plt\n",
    "import matplotlib as mpl\n",
    "from sklearn.neighbors import KNeighborsRegressor\n",
    "from sklearn.model_selection import train_test_split\n",
    "from sklearn.metrics import mean_squared_error\n",
    "from sklearn.metrics import mean_absolute_error\n",
    "import copy\n"
   ]
  },
  {
   "cell_type": "code",
   "execution_count": 44,
   "metadata": {},
   "outputs": [],
   "source": [
    "\n",
    "data1 = pd.read_csv('01-new.csv')\n",
    "\n",
    "data3 = pd.read_csv('11.csv')"
   ]
  },
  {
   "cell_type": "code",
   "execution_count": 45,
   "metadata": {},
   "outputs": [
    {
     "data": {
      "text/html": [
       "<div>\n",
       "<style scoped>\n",
       "    .dataframe tbody tr th:only-of-type {\n",
       "        vertical-align: middle;\n",
       "    }\n",
       "\n",
       "    .dataframe tbody tr th {\n",
       "        vertical-align: top;\n",
       "    }\n",
       "\n",
       "    .dataframe thead th {\n",
       "        text-align: right;\n",
       "    }\n",
       "</style>\n",
       "<table border=\"1\" class=\"dataframe\">\n",
       "  <thead>\n",
       "    <tr style=\"text-align: right;\">\n",
       "      <th></th>\n",
       "      <th>0</th>\n",
       "      <th>0.1</th>\n",
       "    </tr>\n",
       "  </thead>\n",
       "  <tbody>\n",
       "    <tr>\n",
       "      <th>0</th>\n",
       "      <td>0.000000</td>\n",
       "      <td>0.00878</td>\n",
       "    </tr>\n",
       "    <tr>\n",
       "      <th>1</th>\n",
       "      <td>0.000508</td>\n",
       "      <td>0.01540</td>\n",
       "    </tr>\n",
       "    <tr>\n",
       "      <th>2</th>\n",
       "      <td>0.000508</td>\n",
       "      <td>0.01240</td>\n",
       "    </tr>\n",
       "    <tr>\n",
       "      <th>3</th>\n",
       "      <td>0.001070</td>\n",
       "      <td>0.02020</td>\n",
       "    </tr>\n",
       "    <tr>\n",
       "      <th>4</th>\n",
       "      <td>0.001640</td>\n",
       "      <td>0.02830</td>\n",
       "    </tr>\n",
       "    <tr>\n",
       "      <th>...</th>\n",
       "      <td>...</td>\n",
       "      <td>...</td>\n",
       "    </tr>\n",
       "    <tr>\n",
       "      <th>511</th>\n",
       "      <td>0.045400</td>\n",
       "      <td>0.83200</td>\n",
       "    </tr>\n",
       "    <tr>\n",
       "      <th>512</th>\n",
       "      <td>0.045400</td>\n",
       "      <td>0.82900</td>\n",
       "    </tr>\n",
       "    <tr>\n",
       "      <th>513</th>\n",
       "      <td>0.045300</td>\n",
       "      <td>0.83600</td>\n",
       "    </tr>\n",
       "    <tr>\n",
       "      <th>514</th>\n",
       "      <td>0.045400</td>\n",
       "      <td>0.83200</td>\n",
       "    </tr>\n",
       "    <tr>\n",
       "      <th>515</th>\n",
       "      <td>0.045400</td>\n",
       "      <td>0.82900</td>\n",
       "    </tr>\n",
       "  </tbody>\n",
       "</table>\n",
       "<p>516 rows × 2 columns</p>\n",
       "</div>"
      ],
      "text/plain": [
       "            0      0.1\n",
       "0    0.000000  0.00878\n",
       "1    0.000508  0.01540\n",
       "2    0.000508  0.01240\n",
       "3    0.001070  0.02020\n",
       "4    0.001640  0.02830\n",
       "..        ...      ...\n",
       "511  0.045400  0.83200\n",
       "512  0.045400  0.82900\n",
       "513  0.045300  0.83600\n",
       "514  0.045400  0.83200\n",
       "515  0.045400  0.82900\n",
       "\n",
       "[516 rows x 2 columns]"
      ]
     },
     "execution_count": 45,
     "metadata": {},
     "output_type": "execute_result"
    }
   ],
   "source": [
    "data1"
   ]
  },
  {
   "cell_type": "code",
   "execution_count": 46,
   "metadata": {},
   "outputs": [],
   "source": [
    "x  = data1.iloc[:, :-1].values\n",
    "y = data1.iloc[:, -1].values\n"
   ]
  },
  {
   "cell_type": "code",
   "execution_count": 47,
   "metadata": {},
   "outputs": [],
   "source": [
    "X_train, X_test, y_train, y_test = train_test_split(x, y, test_size=0.2, random_state=42)"
   ]
  },
  {
   "cell_type": "code",
   "execution_count": 48,
   "metadata": {},
   "outputs": [
    {
     "data": {
      "text/plain": [
       "(412,)"
      ]
     },
     "execution_count": 48,
     "metadata": {},
     "output_type": "execute_result"
    }
   ],
   "source": [
    "y_train.shape"
   ]
  },
  {
   "cell_type": "code",
   "execution_count": 49,
   "metadata": {},
   "outputs": [
    {
     "data": {
      "text/plain": [
       "(104,)"
      ]
     },
     "execution_count": 49,
     "metadata": {},
     "output_type": "execute_result"
    }
   ],
   "source": [
    "y_test.shape"
   ]
  },
  {
   "cell_type": "code",
   "execution_count": 50,
   "metadata": {},
   "outputs": [
    {
     "data": {
      "text/plain": [
       "(104, 1)"
      ]
     },
     "execution_count": 50,
     "metadata": {},
     "output_type": "execute_result"
    }
   ],
   "source": [
    "X_test.shape"
   ]
  },
  {
   "cell_type": "code",
   "execution_count": 51,
   "metadata": {},
   "outputs": [
    {
     "data": {
      "text/plain": [
       "(412, 1)"
      ]
     },
     "execution_count": 51,
     "metadata": {},
     "output_type": "execute_result"
    }
   ],
   "source": [
    "X_train.shape\n",
    "\n"
   ]
  },
  {
   "cell_type": "code",
   "execution_count": 52,
   "metadata": {},
   "outputs": [],
   "source": [
    "\n",
    "# import numbers\n",
    "\n",
    "\n",
    "# X1 = data1.iloc[:, :-1].values\n",
    "# Y1 = data1.iloc[:, -1].values \n",
    "# X3 = data3.iloc[:, :-1].values\n",
    "# Y3 = data3.iloc[:, -1].values"
   ]
  },
  {
   "cell_type": "code",
   "execution_count": 53,
   "metadata": {},
   "outputs": [
    {
     "data": {
      "text/plain": [
       "KNeighborsRegressor()"
      ]
     },
     "execution_count": 53,
     "metadata": {},
     "output_type": "execute_result"
    }
   ],
   "source": [
    "\n",
    "from pyexpat import model\n",
    "\n",
    "\n",
    "model =  KNeighborsRegressor()\n",
    "\n",
    "# neigh3 =  KNeighborsRegressor()\n",
    "\n",
    "model.fit(X_train, y_train)\n",
    "\n",
    "# neigh3.fit(X3, Y3)\n"
   ]
  },
  {
   "cell_type": "code",
   "execution_count": 54,
   "metadata": {},
   "outputs": [],
   "source": [
    "y_pred = model.predict(X_test)"
   ]
  },
  {
   "cell_type": "code",
   "execution_count": 78,
   "metadata": {},
   "outputs": [
    {
     "data": {
      "text/plain": [
       "Text(0.5, 1.0, 'Predict x using k-nearest neighbor')"
      ]
     },
     "execution_count": 78,
     "metadata": {},
     "output_type": "execute_result"
    },
    {
     "data": {
      "image/png": "[encoded data removed]",
      "text/plain": [
       "<Figure size 432x288 with 1 Axes>"
      ]
     },
     "metadata": {
      "needs_background": "light"
     },
     "output_type": "display_data"
    }
   ],
   "source": [
    "plt.scatter(X_test , y_pred)\n",
    "plt.title('Predict x using k-nearest neighbor')\n",
    "\n"
   ]
  },
  {
   "cell_type": "code",
   "execution_count": 56,
   "metadata": {},
   "outputs": [
    {
     "data": {
      "text/plain": [
       "8.654745769230763e-05"
      ]
     },
     "execution_count": 56,
     "metadata": {},
     "output_type": "execute_result"
    }
   ],
   "source": [
    "mean_squared_error(y_test, y_pred)"
   ]
  },
  {
   "cell_type": "code",
   "execution_count": 58,
   "metadata": {},
   "outputs": [],
   "source": [
    "listew= [ 0.18, 0.08, 0.27, 0.19, 0.28, 0.12, 0.02, 0.2 , 0.06, 0.28, 0.03,\n",
    "       0.05, 0.07, 0.2 , 0.22, 0.13, 0.02, 0.21, 0.15, 0.21, 0.27, 0.19,\n",
    "       0.06, 0.29, 0.17, 0.2 , 0.11, 0.04, 0.28, 0.03, 0.15, 0.08, 0.05,\n",
    "       0.11, 0.12, 0.02, 0.11, 0.27, 0.27, 0.03, 0.06, 0.02, 0.08, 0.28,\n",
    "       0.29, 0.01, 0.03, 0.24, 0.2 , 0.12, 0.02, 0.14, 0.03, 0.01, 0.29,\n",
    "       0.21, 0.02, 0.28, 0.09, 0.02, 0.23, 0.  , 0.17, 0.18, 0.01, 0.2 ,\n",
    "       0.25, 0.22, 0.01, 0.24, 0.19, 0.27, 0.12, 0.18, 0.14, 0.02, 0.12,\n",
    "       0.15, 0.12, 0.23, 0.04, 0.07, 0.29, 0.29, 0.01, 0.13, 0.15, 0.14,\n",
    "       0.06, 0.23, 0.05, 0.19, 0.11, 0.24, 0.19, 0.19, 0.25, 0.03, 0.22,\n",
    "       0.12 ]\n"
   ]
  },
  {
   "cell_type": "code",
   "execution_count": 59,
   "metadata": {},
   "outputs": [],
   "source": [
    "list = [0.005, 0.105, 0.205, 0.305, 0.405, 0.505, 0.605, 0.705, 0.805,\n",
    "       0.905, 0. , 0.1, 0.2, 0.3, 0.4, 0.5, 0.6, 0.7, 0.8, 0.9, 1.]"
   ]
  },
  {
   "cell_type": "code",
   "execution_count": 60,
   "metadata": {},
   "outputs": [],
   "source": [
    "list_new = [0.031, 0.032, 0.033, 0.034, 0.035,\n",
    "       0.036, 0.037, 0.038, 0.039, 0.04 , 0.041, 0.042, 0.043, 0.044,\n",
    "       0.045, 0.046, 0.047, 0.048, 0.049, 0.05 , 0.051, 0.052, 0.053,\n",
    "       0.054, 0.055]"
   ]
  },
  {
   "cell_type": "code",
   "execution_count": 61,
   "metadata": {},
   "outputs": [
    {
     "data": {
      "text/plain": [
       "<function list.sort(*, key=None, reverse=False)>"
      ]
     },
     "execution_count": 61,
     "metadata": {},
     "output_type": "execute_result"
    }
   ],
   "source": [
    "list.sort"
   ]
  },
  {
   "cell_type": "code",
   "execution_count": 62,
   "metadata": {},
   "outputs": [
    {
     "name": "stdout",
     "output_type": "stream",
     "text": [
      "[0.005, 0.105, 0.205, 0.305, 0.405, 0.505, 0.605, 0.705, 0.805, 0.905, 0.0, 0.1, 0.2, 0.3, 0.4, 0.5, 0.6, 0.7, 0.8, 0.9, 1.0]\n"
     ]
    }
   ],
   "source": [
    "print(list)"
   ]
  },
  {
   "cell_type": "code",
   "execution_count": 63,
   "metadata": {},
   "outputs": [
    {
     "ename": "TypeError",
     "evalue": "'list' object is not callable",
     "output_type": "error",
     "traceback": [
      "\u001b[1;31m---------------------------------------------------------------------------\u001b[0m",
      "\u001b[1;31mTypeError\u001b[0m                                 Traceback (most recent call last)",
      "\u001b[1;32mc:\\Users\\Alireza\\OneDrive\\Desktop\\pred-Optical-Logic-Gates-main (1)\\pred-Optical-Logic-Gates-main\\pred-final.ipynb Cell 21\u001b[0m in \u001b[0;36m<cell line: 2>\u001b[1;34m()\u001b[0m\n\u001b[0;32m      <a href='vscode-notebook-cell:/c%3A/Users/Alireza/OneDrive/Desktop/pred-Optical-Logic-Gates-main%20%281%29/pred-Optical-Logic-Gates-main/pred-final.ipynb#X23sZmlsZQ%3D%3D?line=0'>1</a>\u001b[0m \u001b[39mimport\u001b[39;00m \u001b[39mrandom\u001b[39;00m\n\u001b[1;32m----> <a href='vscode-notebook-cell:/c%3A/Users/Alireza/OneDrive/Desktop/pred-Optical-Logic-Gates-main%20%281%29/pred-Optical-Logic-Gates-main/pred-final.ipynb#X23sZmlsZQ%3D%3D?line=1'>2</a>\u001b[0m number\u001b[39m=\u001b[39m \u001b[39mlist\u001b[39;49m(\u001b[39mrange\u001b[39;49m(\u001b[39m301\u001b[39;49m))\n\u001b[0;32m      <a href='vscode-notebook-cell:/c%3A/Users/Alireza/OneDrive/Desktop/pred-Optical-Logic-Gates-main%20%281%29/pred-Optical-Logic-Gates-main/pred-final.ipynb#X23sZmlsZQ%3D%3D?line=2'>3</a>\u001b[0m new_number \u001b[39m=\u001b[39m np\u001b[39m.\u001b[39mdivide(number, \u001b[39m1000\u001b[39m)\n",
      "\u001b[1;31mTypeError\u001b[0m: 'list' object is not callable"
     ]
    }
   ],
   "source": [
    "import random\n",
    "number= list(range(301))\n",
    "new_number = np.divide(number, 1000)   \n"
   ]
  },
  {
   "cell_type": "code",
   "execution_count": null,
   "metadata": {},
   "outputs": [
    {
     "name": "stdout",
     "output_type": "stream",
     "text": [
      "[[0.042]] result in 01 graph is : [0.65028315]\n",
      "[[0.042]] result in 11 graph is : [1.18829105]\n",
      "[0.5380079]\n",
      "[[0.034]] result in 01 graph is : [0.63193684]\n",
      "[[0.034]] result in 11 graph is : [1.58602033]\n",
      "[0.95408349]\n",
      "[[0.031]] result in 01 graph is : [0.607125]\n",
      "[[0.031]] result in 11 graph is : [1.76140874]\n",
      "[1.15428373]\n",
      "[[0.046]] result in 01 graph is : [0.63476202]\n",
      "[[0.046]] result in 11 graph is : [1.02901188]\n",
      "[0.39424986]\n",
      "[[0.048]] result in 01 graph is : [0.62140191]\n",
      "[[0.048]] result in 11 graph is : [0.95931916]\n",
      "[0.33791726]\n",
      "[[0.054]] result in 01 graph is : [0.56179902]\n",
      "[[0.054]] result in 11 graph is : [0.78912173]\n",
      "[0.2273227]\n",
      "[[0.043]] result in 01 graph is : [0.64786534]\n",
      "[[0.043]] result in 11 graph is : [1.145976]\n",
      "[0.49811067]\n",
      "[[0.053]] result in 01 graph is : [0.57356527]\n",
      "[[0.053]] result in 11 graph is : [0.81352677]\n",
      "[0.2399615]\n",
      "[[0.032]] result in 01 graph is : [0.61649549]\n",
      "[[0.032]] result in 11 graph is : [1.70142282]\n",
      "[1.08492733]\n",
      "[[0.043]] result in 01 graph is : [0.64786534]\n",
      "[[0.043]] result in 11 graph is : [1.145976]\n",
      "[0.49811067]\n",
      "[[0.05]] result in 01 graph is : [0.60461021]\n",
      "[[0.05]] result in 11 graph is : [0.89617971]\n",
      "[0.2915695]\n",
      "[[0.053]] result in 01 graph is : [0.57356527]\n",
      "[[0.053]] result in 11 graph is : [0.81352677]\n",
      "[0.2399615]\n",
      "[[0.038]] result in 01 graph is : [0.64966907]\n",
      "[[0.038]] result in 11 graph is : [1.37412379]\n",
      "[0.72445472]\n",
      "[[0.042]] result in 01 graph is : [0.65028315]\n",
      "[[0.042]] result in 11 graph is : [1.18829105]\n",
      "[0.5380079]\n",
      "[[0.052]] result in 01 graph is : [0.58464751]\n",
      "[[0.052]] result in 11 graph is : [0.83949196]\n",
      "[0.25484445]\n",
      "[[0.046]] result in 01 graph is : [0.63476202]\n",
      "[[0.046]] result in 11 graph is : [1.02901188]\n",
      "[0.39424986]\n",
      "[[0.046]] result in 01 graph is : [0.63476202]\n",
      "[[0.046]] result in 11 graph is : [1.02901188]\n",
      "[0.39424986]\n",
      "[[0.05]] result in 01 graph is : [0.60461021]\n",
      "[[0.05]] result in 11 graph is : [0.89617971]\n",
      "[0.2915695]\n",
      "[[0.044]] result in 01 graph is : [0.64445714]\n",
      "[[0.044]] result in 11 graph is : [1.10532523]\n",
      "[0.46086809]\n",
      "[[0.044]] result in 01 graph is : [0.64445714]\n",
      "[[0.044]] result in 11 graph is : [1.10532523]\n",
      "[0.46086809]\n",
      "[[0.041]] result in 01 graph is : [0.65168995]\n",
      "[[0.041]] result in 11 graph is : [1.23226862]\n",
      "[0.58057867]\n",
      "[[0.032]] result in 01 graph is : [0.61649549]\n",
      "[[0.032]] result in 11 graph is : [1.70142282]\n",
      "[1.08492733]\n",
      "[[0.049]] result in 01 graph is : [0.61341933]\n",
      "[[0.049]] result in 11 graph is : [0.92693584]\n",
      "[0.31351651]\n",
      "[[0.045]] result in 01 graph is : [0.64008117]\n",
      "[[0.045]] result in 11 graph is : [1.06633814]\n",
      "[0.42625696]\n",
      "[[0.038]] result in 01 graph is : [0.64966907]\n",
      "[[0.038]] result in 11 graph is : [1.37412379]\n",
      "[0.72445472]\n",
      "[[0.052]] result in 01 graph is : [0.58464751]\n",
      "[[0.052]] result in 11 graph is : [0.83949196]\n",
      "[0.25484445]\n",
      "[[0.033]] result in 01 graph is : [0.62476645]\n",
      "[[0.033]] result in 11 graph is : [1.64295152]\n",
      "[1.01818506]\n",
      "[[0.046]] result in 01 graph is : [0.63476202]\n",
      "[[0.046]] result in 11 graph is : [1.02901188]\n",
      "[0.39424986]\n",
      "[[0.051]] result in 01 graph is : [0.59500796]\n",
      "[[0.051]] result in 11 graph is : [0.86703701]\n",
      "[0.27202906]\n",
      "[[0.044]] result in 01 graph is : [0.64445714]\n",
      "[[0.044]] result in 11 graph is : [1.10532523]\n",
      "[0.46086809]\n",
      "[[0.035]] result in 01 graph is : [0.6380078]\n",
      "[[0.035]] result in 11 graph is : [1.5306524]\n",
      "[0.89264459]\n",
      "[[0.037]] result in 01 graph is : [0.64686721]\n",
      "[[0.037]] result in 11 graph is : [1.42468694]\n",
      "[0.77781973]\n",
      "[[0.052]] result in 01 graph is : [0.58464751]\n",
      "[[0.052]] result in 11 graph is : [0.83949196]\n",
      "[0.25484445]\n",
      "[[0.033]] result in 01 graph is : [0.62476645]\n",
      "[[0.033]] result in 11 graph is : [1.64295152]\n",
      "[1.01818506]\n",
      "[[0.042]] result in 01 graph is : [0.65028315]\n",
      "[[0.042]] result in 11 graph is : [1.18829105]\n",
      "[0.5380079]\n",
      "[[0.041]] result in 01 graph is : [0.65168995]\n",
      "[[0.041]] result in 11 graph is : [1.23226862]\n",
      "[0.58057867]\n",
      "[[0.053]] result in 01 graph is : [0.57356527]\n",
      "[[0.053]] result in 11 graph is : [0.81352677]\n",
      "[0.2399615]\n",
      "[[0.048]] result in 01 graph is : [0.62140191]\n",
      "[[0.048]] result in 11 graph is : [0.95931916]\n",
      "[0.33791726]\n",
      "[[0.055]] result in 01 graph is : [0.54938782]\n",
      "[[0.055]] result in 11 graph is : [0.76625525]\n",
      "[0.21686743]\n",
      "[[0.038]] result in 01 graph is : [0.64966907]\n",
      "[[0.038]] result in 11 graph is : [1.37412379]\n",
      "[0.72445472]\n",
      "[[0.039]] result in 01 graph is : [0.65139833]\n",
      "[[0.039]] result in 11 graph is : [1.32519262]\n",
      "[0.67379429]\n",
      "[[0.046]] result in 01 graph is : [0.63476202]\n",
      "[[0.046]] result in 11 graph is : [1.02901188]\n",
      "[0.39424986]\n",
      "[[0.032]] result in 01 graph is : [0.61649549]\n",
      "[[0.032]] result in 11 graph is : [1.70142282]\n",
      "[1.08492733]\n",
      "[[0.036]] result in 01 graph is : [0.64298272]\n",
      "[[0.036]] result in 11 graph is : [1.47686847]\n",
      "[0.83388575]\n",
      "[[0.054]] result in 01 graph is : [0.56179902]\n",
      "[[0.054]] result in 11 graph is : [0.78912173]\n",
      "[0.2273227]\n",
      "[[0.039]] result in 01 graph is : [0.65139833]\n",
      "[[0.039]] result in 11 graph is : [1.32519262]\n",
      "[0.67379429]\n",
      "[[0.046]] result in 01 graph is : [0.63476202]\n",
      "[[0.046]] result in 11 graph is : [1.02901188]\n",
      "[0.39424986]\n",
      "[[0.055]] result in 01 graph is : [0.54938782]\n",
      "[[0.055]] result in 11 graph is : [0.76625525]\n",
      "[0.21686743]\n",
      "[[0.055]] result in 01 graph is : [0.54938782]\n",
      "[[0.055]] result in 11 graph is : [0.76625525]\n",
      "[0.21686743]\n",
      "[[0.047]] result in 01 graph is : [0.62852616]\n",
      "[[0.047]] result in 11 graph is : [0.99334134]\n",
      "[0.36481517]\n",
      "[[0.035]] result in 01 graph is : [0.6380078]\n",
      "[[0.035]] result in 11 graph is : [1.5306524]\n",
      "[0.89264459]\n",
      "[[0.043]] result in 01 graph is : [0.64786534]\n",
      "[[0.043]] result in 11 graph is : [1.145976]\n",
      "[0.49811067]\n",
      "[[0.035]] result in 01 graph is : [0.6380078]\n",
      "[[0.035]] result in 11 graph is : [1.5306524]\n",
      "[0.89264459]\n",
      "[[0.054]] result in 01 graph is : [0.56179902]\n",
      "[[0.054]] result in 11 graph is : [0.78912173]\n",
      "[0.2273227]\n",
      "[[0.046]] result in 01 graph is : [0.63476202]\n",
      "[[0.046]] result in 11 graph is : [1.02901188]\n",
      "[0.39424986]\n",
      "[[0.048]] result in 01 graph is : [0.62140191]\n",
      "[[0.048]] result in 11 graph is : [0.95931916]\n",
      "[0.33791726]\n",
      "[[0.037]] result in 01 graph is : [0.64686721]\n",
      "[[0.037]] result in 11 graph is : [1.42468694]\n",
      "[0.77781973]\n",
      "[[0.055]] result in 01 graph is : [0.54938782]\n",
      "[[0.055]] result in 11 graph is : [0.76625525]\n",
      "[0.21686743]\n",
      "[[0.039]] result in 01 graph is : [0.65139833]\n",
      "[[0.039]] result in 11 graph is : [1.32519262]\n",
      "[0.67379429]\n",
      "[[0.031]] result in 01 graph is : [0.607125]\n",
      "[[0.031]] result in 11 graph is : [1.76140874]\n",
      "[1.15428373]\n",
      "[[0.045]] result in 01 graph is : [0.64008117]\n",
      "[[0.045]] result in 11 graph is : [1.06633814]\n",
      "[0.42625696]\n",
      "[[0.042]] result in 01 graph is : [0.65028315]\n",
      "[[0.042]] result in 11 graph is : [1.18829105]\n",
      "[0.5380079]\n",
      "[[0.042]] result in 01 graph is : [0.65028315]\n",
      "[[0.042]] result in 11 graph is : [1.18829105]\n",
      "[0.5380079]\n",
      "[[0.038]] result in 01 graph is : [0.64966907]\n",
      "[[0.038]] result in 11 graph is : [1.37412379]\n",
      "[0.72445472]\n",
      "[[0.042]] result in 01 graph is : [0.65028315]\n",
      "[[0.042]] result in 11 graph is : [1.18829105]\n",
      "[0.5380079]\n",
      "[[0.043]] result in 01 graph is : [0.64786534]\n",
      "[[0.043]] result in 11 graph is : [1.145976]\n",
      "[0.49811067]\n",
      "[[0.034]] result in 01 graph is : [0.63193684]\n",
      "[[0.034]] result in 11 graph is : [1.58602033]\n",
      "[0.95408349]\n",
      "[[0.037]] result in 01 graph is : [0.64686721]\n",
      "[[0.037]] result in 11 graph is : [1.42468694]\n",
      "[0.77781973]\n",
      "[[0.036]] result in 01 graph is : [0.64298272]\n",
      "[[0.036]] result in 11 graph is : [1.47686847]\n",
      "[0.83388575]\n",
      "[[0.031]] result in 01 graph is : [0.607125]\n",
      "[[0.031]] result in 11 graph is : [1.76140874]\n",
      "[1.15428373]\n",
      "[[0.039]] result in 01 graph is : [0.65139833]\n",
      "[[0.039]] result in 11 graph is : [1.32519262]\n",
      "[0.67379429]\n",
      "[[0.038]] result in 01 graph is : [0.64966907]\n",
      "[[0.038]] result in 11 graph is : [1.37412379]\n",
      "[0.72445472]\n",
      "[[0.045]] result in 01 graph is : [0.64008117]\n",
      "[[0.045]] result in 11 graph is : [1.06633814]\n",
      "[0.42625696]\n",
      "[[0.041]] result in 01 graph is : [0.65168995]\n",
      "[[0.041]] result in 11 graph is : [1.23226862]\n",
      "[0.58057867]\n",
      "[[0.055]] result in 01 graph is : [0.54938782]\n",
      "[[0.055]] result in 11 graph is : [0.76625525]\n",
      "[0.21686743]\n",
      "[[0.031]] result in 01 graph is : [0.607125]\n",
      "[[0.031]] result in 11 graph is : [1.76140874]\n",
      "[1.15428373]\n",
      "[[0.052]] result in 01 graph is : [0.58464751]\n",
      "[[0.052]] result in 11 graph is : [0.83949196]\n",
      "[0.25484445]\n",
      "[[0.031]] result in 01 graph is : [0.607125]\n",
      "[[0.031]] result in 11 graph is : [1.76140874]\n",
      "[1.15428373]\n",
      "[[0.031]] result in 01 graph is : [0.607125]\n",
      "[[0.031]] result in 11 graph is : [1.76140874]\n",
      "[1.15428373]\n",
      "[[0.039]] result in 01 graph is : [0.65139833]\n",
      "[[0.039]] result in 11 graph is : [1.32519262]\n",
      "[0.67379429]\n",
      "[[0.055]] result in 01 graph is : [0.54938782]\n",
      "[[0.055]] result in 11 graph is : [0.76625525]\n",
      "[0.21686743]\n",
      "[[0.05]] result in 01 graph is : [0.60461021]\n",
      "[[0.05]] result in 11 graph is : [0.89617971]\n",
      "[0.2915695]\n",
      "[[0.031]] result in 01 graph is : [0.607125]\n",
      "[[0.031]] result in 11 graph is : [1.76140874]\n",
      "[1.15428373]\n",
      "[[0.048]] result in 01 graph is : [0.62140191]\n",
      "[[0.048]] result in 11 graph is : [0.95931916]\n",
      "[0.33791726]\n",
      "[[0.042]] result in 01 graph is : [0.65028315]\n",
      "[[0.042]] result in 11 graph is : [1.18829105]\n",
      "[0.5380079]\n",
      "[[0.048]] result in 01 graph is : [0.62140191]\n",
      "[[0.048]] result in 11 graph is : [0.95931916]\n",
      "[0.33791726]\n",
      "[[0.039]] result in 01 graph is : [0.65139833]\n",
      "[[0.039]] result in 11 graph is : [1.32519262]\n",
      "[0.67379429]\n",
      "[[0.031]] result in 01 graph is : [0.607125]\n",
      "[[0.031]] result in 11 graph is : [1.76140874]\n",
      "[1.15428373]\n",
      "[[0.038]] result in 01 graph is : [0.64966907]\n",
      "[[0.038]] result in 11 graph is : [1.37412379]\n",
      "[0.72445472]\n",
      "[[0.046]] result in 01 graph is : [0.63476202]\n",
      "[[0.046]] result in 11 graph is : [1.02901188]\n",
      "[0.39424986]\n",
      "[[0.047]] result in 01 graph is : [0.62852616]\n",
      "[[0.047]] result in 11 graph is : [0.99334134]\n",
      "[0.36481517]\n",
      "[[0.042]] result in 01 graph is : [0.65028315]\n",
      "[[0.042]] result in 11 graph is : [1.18829105]\n",
      "[0.5380079]\n",
      "[[0.05]] result in 01 graph is : [0.60461021]\n",
      "[[0.05]] result in 11 graph is : [0.89617971]\n",
      "[0.2915695]\n",
      "[[0.055]] result in 01 graph is : [0.54938782]\n",
      "[[0.055]] result in 11 graph is : [0.76625525]\n",
      "[0.21686743]\n",
      "[[0.038]] result in 01 graph is : [0.64966907]\n",
      "[[0.038]] result in 11 graph is : [1.37412379]\n",
      "[0.72445472]\n",
      "[[0.049]] result in 01 graph is : [0.61341933]\n",
      "[[0.049]] result in 11 graph is : [0.92693584]\n",
      "[0.31351651]\n",
      "[[0.048]] result in 01 graph is : [0.62140191]\n",
      "[[0.048]] result in 11 graph is : [0.95931916]\n",
      "[0.33791726]\n",
      "[[0.045]] result in 01 graph is : [0.64008117]\n",
      "[[0.045]] result in 11 graph is : [1.06633814]\n",
      "[0.42625696]\n",
      "[[0.046]] result in 01 graph is : [0.63476202]\n",
      "[[0.046]] result in 11 graph is : [1.02901188]\n",
      "[0.39424986]\n",
      "[[0.046]] result in 01 graph is : [0.63476202]\n",
      "[[0.046]] result in 11 graph is : [1.02901188]\n",
      "[0.39424986]\n"
     ]
    }
   ],
   "source": [
    "import random\n",
    "for x in range(100):\n",
    "  X3 = random.choices(list_new, k=1)\n",
    "  results = []\n",
    "  results.append(X3)\n",
    "\n",
    "  print(results,'result in 01 graph is :' ,regr1.predict(results))\n",
    "  print(results,'result in 11 graph is :' ,regr3.predict(results))\n",
    "  print(regr3.predict(results) - regr1.predict(results))"
   ]
  },
  {
   "cell_type": "code",
   "execution_count": null,
   "metadata": {},
   "outputs": [
    {
     "name": "stdout",
     "output_type": "stream",
     "text": [
      "[[0.052]] result in 01 graph is : [0.621]\n",
      "[[0.052]] result in 01 graph is : [0.621]\n",
      "[[0.052]] result in 01 graph is : [0.621]\n",
      "[[0.039]] result in 01 graph is : [0.7772]\n",
      "[[0.035]] result in 01 graph is : [0.6686]\n",
      "[[0.041]] result in 01 graph is : [0.8272]\n",
      "[[0.035]] result in 01 graph is : [0.6686]\n",
      "[[0.033]] result in 01 graph is : [0.6132]\n",
      "[[0.036]] result in 01 graph is : [0.6884]\n",
      "[[0.053]] result in 01 graph is : [0.59]\n",
      "[[0.05]] result in 01 graph is : [0.686]\n",
      "[[0.034]] result in 01 graph is : [0.641]\n",
      "[[0.043]] result in 01 graph is : [0.8834]\n",
      "[[0.046]] result in 01 graph is : [0.8088]\n",
      "[[0.031]] result in 01 graph is : [0.5578]\n",
      "[[0.048]] result in 01 graph is : [0.748]\n",
      "[[0.053]] result in 01 graph is : [0.59]\n",
      "[[0.044]] result in 01 graph is : [0.8692]\n",
      "[[0.038]] result in 01 graph is : [0.7506]\n",
      "[[0.036]] result in 01 graph is : [0.6884]\n",
      "[[0.037]] result in 01 graph is : [0.7254]\n",
      "[[0.047]] result in 01 graph is : [0.7786]\n",
      "[[0.034]] result in 01 graph is : [0.641]\n",
      "[[0.038]] result in 01 graph is : [0.7506]\n",
      "[[0.049]] result in 01 graph is : [0.7158]\n",
      "[[0.035]] result in 01 graph is : [0.6686]\n",
      "[[0.042]] result in 01 graph is : [0.8636]\n",
      "[[0.037]] result in 01 graph is : [0.7254]\n",
      "[[0.044]] result in 01 graph is : [0.8692]\n",
      "[[0.051]] result in 01 graph is : [0.6554]\n",
      "[[0.041]] result in 01 graph is : [0.8272]\n",
      "[[0.054]] result in 01 graph is : [0.5616]\n",
      "[[0.035]] result in 01 graph is : [0.6686]\n",
      "[[0.039]] result in 01 graph is : [0.7772]\n",
      "[[0.037]] result in 01 graph is : [0.7254]\n",
      "[[0.034]] result in 01 graph is : [0.641]\n",
      "[[0.045]] result in 01 graph is : [0.8476]\n",
      "[[0.039]] result in 01 graph is : [0.7772]\n",
      "[[0.031]] result in 01 graph is : [0.5578]\n",
      "[[0.052]] result in 01 graph is : [0.621]\n",
      "[[0.043]] result in 01 graph is : [0.8834]\n",
      "[[0.041]] result in 01 graph is : [0.8272]\n",
      "[[0.039]] result in 01 graph is : [0.7772]\n",
      "[[0.043]] result in 01 graph is : [0.8834]\n",
      "[[0.046]] result in 01 graph is : [0.8088]\n",
      "[[0.053]] result in 01 graph is : [0.59]\n",
      "[[0.033]] result in 01 graph is : [0.6132]\n",
      "[[0.042]] result in 01 graph is : [0.8636]\n",
      "[[0.045]] result in 01 graph is : [0.8476]\n",
      "[[0.053]] result in 01 graph is : [0.59]\n",
      "[[0.047]] result in 01 graph is : [0.7786]\n",
      "[[0.031]] result in 01 graph is : [0.5578]\n",
      "[[0.049]] result in 01 graph is : [0.7158]\n",
      "[[0.036]] result in 01 graph is : [0.6884]\n",
      "[[0.034]] result in 01 graph is : [0.641]\n",
      "[[0.031]] result in 01 graph is : [0.5578]\n",
      "[[0.054]] result in 01 graph is : [0.5616]\n",
      "[[0.049]] result in 01 graph is : [0.7158]\n",
      "[[0.038]] result in 01 graph is : [0.7506]\n",
      "[[0.033]] result in 01 graph is : [0.6132]\n",
      "[[0.032]] result in 01 graph is : [0.5856]\n",
      "[[0.04]] result in 01 graph is : [0.803]\n",
      "[[0.055]] result in 01 graph is : [0.5266]\n",
      "[[0.044]] result in 01 graph is : [0.8692]\n",
      "[[0.039]] result in 01 graph is : [0.7772]\n",
      "[[0.05]] result in 01 graph is : [0.686]\n",
      "[[0.048]] result in 01 graph is : [0.748]\n",
      "[[0.036]] result in 01 graph is : [0.6884]\n",
      "[[0.044]] result in 01 graph is : [0.8692]\n",
      "[[0.048]] result in 01 graph is : [0.748]\n",
      "[[0.051]] result in 01 graph is : [0.6554]\n",
      "[[0.037]] result in 01 graph is : [0.7254]\n",
      "[[0.045]] result in 01 graph is : [0.8476]\n",
      "[[0.034]] result in 01 graph is : [0.641]\n",
      "[[0.042]] result in 01 graph is : [0.8636]\n",
      "[[0.049]] result in 01 graph is : [0.7158]\n",
      "[[0.033]] result in 01 graph is : [0.6132]\n",
      "[[0.046]] result in 01 graph is : [0.8088]\n",
      "[[0.031]] result in 01 graph is : [0.5578]\n",
      "[[0.042]] result in 01 graph is : [0.8636]\n",
      "[[0.045]] result in 01 graph is : [0.8476]\n",
      "[[0.048]] result in 01 graph is : [0.748]\n",
      "[[0.038]] result in 01 graph is : [0.7506]\n",
      "[[0.053]] result in 01 graph is : [0.59]\n",
      "[[0.052]] result in 01 graph is : [0.621]\n",
      "[[0.041]] result in 01 graph is : [0.8272]\n",
      "[[0.035]] result in 01 graph is : [0.6686]\n",
      "[[0.033]] result in 01 graph is : [0.6132]\n",
      "[[0.052]] result in 01 graph is : [0.621]\n",
      "[[0.033]] result in 01 graph is : [0.6132]\n",
      "[[0.044]] result in 01 graph is : [0.8692]\n",
      "[[0.039]] result in 01 graph is : [0.7772]\n",
      "[[0.05]] result in 01 graph is : [0.686]\n",
      "[[0.034]] result in 01 graph is : [0.641]\n",
      "[[0.031]] result in 01 graph is : [0.5578]\n",
      "[[0.045]] result in 01 graph is : [0.8476]\n",
      "[[0.031]] result in 01 graph is : [0.5578]\n",
      "[[0.039]] result in 01 graph is : [0.7772]\n",
      "[[0.044]] result in 01 graph is : [0.8692]\n",
      "[[0.032]] result in 01 graph is : [0.5856]\n"
     ]
    }
   ],
   "source": [
    "import random\n",
    "for x in range(100):\n",
    "  X3 = random.choices(list_new, k=1)\n",
    "  results = []\n",
    "  results.append(X3)\n",
    "\n",
    "  print(results,'result in 01 graph is :' ,neigh1.predict(results))"
   ]
  },
  {
   "cell_type": "code",
   "execution_count": null,
   "metadata": {},
   "outputs": [],
   "source": []
  }
 ],
 "metadata": {
  "kernelspec": {
   "display_name": "Python 3.9.12 ('base')",
   "language": "python",
   "name": "python3"
  },
  "language_info": {
   "codemirror_mode": {
    "name": "ipython",
    "version": 3
   },
   "file_extension": ".py",
   "mimetype": "text/x-python",
   "name": "python",
   "nbconvert_exporter": "python",
   "pygments_lexer": "ipython3",
   "version": "3.9.12"
  },
  "orig_nbformat": 4,
  "vscode": {
   "interpreter": {
    "hash": "1d24ce75dc639f4d7b2a2c182a8ab707d2e9d2a3fdd1ecfbac6a8a0d4ff259b4"
   }
  }
 },
 "nbformat": 4,
 "nbformat_minor": 2
}
